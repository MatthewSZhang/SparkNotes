{
 "cells": [
  {
   "cell_type": "markdown",
   "metadata": {},
   "source": [
    "Useful Websites:\n",
    "* https://www.w3schools.com/tags/\n",
    "* https://docs.microsoft.com/en-us/vsts/collaborate/markdown-guidance?view=vsts\n",
    "* http://markitdown.medusis.com/\n",
    "* http://markdown-guide.readthedocs.io/en/latest/basics.html"
   ]
  },
  {
   "cell_type": "markdown",
   "metadata": {},
   "source": [
    "&lt;tt&gt; means Teletype text\n",
    "* <tt>NaN</tt> VS NaN\n",
    "\n",
    "&lt;p&gt; means paragraph\n",
    "* <p> This is a paragraph</p>"
   ]
  }
 ],
 "metadata": {
  "kernelspec": {
   "display_name": "Python 3",
   "language": "python",
   "name": "python3"
  },
  "language_info": {
   "codemirror_mode": {
    "name": "ipython",
    "version": 3
   },
   "file_extension": ".py",
   "mimetype": "text/x-python",
   "name": "python",
   "nbconvert_exporter": "python",
   "pygments_lexer": "ipython3",
   "version": "3.6.4"
  }
 },
 "nbformat": 4,
 "nbformat_minor": 2
}
